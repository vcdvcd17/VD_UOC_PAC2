{
 "cells": [
  {
   "cell_type": "code",
   "execution_count": 1,
   "id": "feb6a465",
   "metadata": {},
   "outputs": [],
   "source": [
    "import numpy as np\n",
    "import pandas as pd"
   ]
  },
  {
   "cell_type": "code",
   "execution_count": 2,
   "id": "ca6829c1",
   "metadata": {},
   "outputs": [],
   "source": [
    "df = pd.read_csv(\"PDB_LV_27112022231134141.csv\")"
   ]
  },
  {
   "cell_type": "code",
   "execution_count": 3,
   "id": "450e8cce",
   "metadata": {},
   "outputs": [],
   "source": [
    "l_paisos = [\"DEU\", \"IRL\", \"FRA\", \"FIN\", \"LUX\", \"ESP\", \"ITA\", \"DNK\", \"NLD\", \"NOR\",\"PRT\"\n",
    "           \"SWE\", \"BEL\", \"GRC\", \"AUT\", \"HUN\", \"CZE\", \"POL\", \"SVN\", \"SVK\", \"LVA\", \"LTU\", \"EST\"]"
   ]
  },
  {
   "cell_type": "code",
   "execution_count": 4,
   "id": "d72dd6f3",
   "metadata": {},
   "outputs": [],
   "source": [
    "df2 = df[(df.Unit == \"US Dollar\") & (df.SUBJECT==\"T_GDPPOP\") & (df.TIME>=2000)\n",
    "         & (df.MEASURE==\"CPC\") & (df.LOCATION.isin(l_paisos))][[\"Country\", \"TIME\", \"Value\"]]"
   ]
  },
  {
   "cell_type": "code",
   "execution_count": 5,
   "id": "08a220f0",
   "metadata": {},
   "outputs": [],
   "source": [
    "df2.to_csv(\"gdp_precapita_eu_20xx.csv\", index=False)"
   ]
  }
 ],
 "metadata": {
  "kernelspec": {
   "display_name": "Python 3 (ipykernel)",
   "language": "python",
   "name": "python3"
  },
  "language_info": {
   "codemirror_mode": {
    "name": "ipython",
    "version": 3
   },
   "file_extension": ".py",
   "mimetype": "text/x-python",
   "name": "python",
   "nbconvert_exporter": "python",
   "pygments_lexer": "ipython3",
   "version": "3.9.13"
  }
 },
 "nbformat": 4,
 "nbformat_minor": 5
}
